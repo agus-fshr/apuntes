{
 "cells": [
  {
   "cell_type": "code",
   "execution_count": 166,
   "id": "68603182-4b98-4edd-b02d-10e77fb882e9",
   "metadata": {},
   "outputs": [],
   "source": [
    "import numpy as np\n",
    "from math import pi\n",
    "import pandas as pd\n",
    "\n",
    "df = pd.read_csv(\"datos.csv\")"
   ]
  },
  {
   "cell_type": "code",
   "execution_count": 167,
   "id": "7f7d26a0-f8cc-4490-b89e-54fd886f0a1f",
   "metadata": {},
   "outputs": [],
   "source": [
    "def qi(a, V):\n",
    "    ro = 817\n",
    "    sigma = 1.29\n",
    "    g = 9.81\n",
    "    d = 5e-3\n",
    "    return (4*pi*(a**3)*(ro-sigma)*g*d)/(3*V)\n",
    "\n",
    "def qi_star(q, e):\n",
    "    return round(q/e + 0.5)"
   ]
  },
  {
   "cell_type": "code",
   "execution_count": 168,
   "id": "49cc3c3e-68a2-4ec9-bd48-8275bbc2a428",
   "metadata": {},
   "outputs": [],
   "source": [
    "e = np.arange(1e-19, 1.7e-19, 0.001e-19)"
   ]
  },
  {
   "cell_type": "code",
   "execution_count": 169,
   "id": "00d22590-a388-4f5e-bf4b-f56ce4de9c06",
   "metadata": {},
   "outputs": [
    {
     "name": "stdout",
     "output_type": "stream",
     "text": [
      "[2.39e-06, 2.02e-06, 2.75e-06, 2.06e-06, 1.19e-06, 1e-06, 1.08e-06, 1.4e-06, 1.45e-06, 1.75e-06, 1.15e-06, 8.85e-07]\n",
      "[279, 279, 278, 270, 138, 49, 40, 48, 85, 121, 71, 50]\n"
     ]
    }
   ],
   "source": [
    "data = df[['Tension de Equilibrio (V)','radio(m)']]\n",
    "a = list(data['radio(m)'])\n",
    "print(a)\n",
    "v = list(data['Tension de Equilibrio (V)'])\n",
    "print(v)"
   ]
  },
  {
   "cell_type": "code",
   "execution_count": 171,
   "id": "30e5b241-1d2a-44e7-a592-4a7399fce0f5",
   "metadata": {},
   "outputs": [
    {
     "name": "stdout",
     "output_type": "stream",
     "text": [
      "233.17228276544475\n"
     ]
    }
   ],
   "source": [
    "sum = 0\n",
    "for i in range(0, data['radio(m)'].count()-1):\n",
    "    for j in e:\n",
    "        q = qi(a[i], v[i])\n",
    "        sum += (q/j - q_star(q, j))**2\n",
    "        j+=1\n",
    "    i+=1\n",
    "\n",
    "print(sum)"
   ]
  }
 ],
 "metadata": {
  "kernelspec": {
   "display_name": "Python 3 (ipykernel)",
   "language": "python",
   "name": "python3"
  },
  "language_info": {
   "codemirror_mode": {
    "name": "ipython",
    "version": 3
   },
   "file_extension": ".py",
   "mimetype": "text/x-python",
   "name": "python",
   "nbconvert_exporter": "python",
   "pygments_lexer": "ipython3",
   "version": "3.10.5"
  }
 },
 "nbformat": 4,
 "nbformat_minor": 5
}
